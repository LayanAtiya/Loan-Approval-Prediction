{
 "cells": [
  {
   "cell_type": "code",
   "execution_count": 6,
   "id": "26ddbd7d-b9f1-4501-8d90-5cafcf7d3260",
   "metadata": {},
   "outputs": [],
   "source": [
    "# import libraries\n",
    "import pandas as pd\n",
    "import numpy as np\n",
    "from sklearn.preprocessing import StandardScaler\n",
    "from sklearn.model_selection import train_test_split\n",
    "from sklearn.linear_model import LogisticRegression\n",
    "from sklearn.metrics import accuracy_score, confusion_matrix, classification_report\n",
    "import seaborn as sns\n",
    "import matplotlib.pyplot as plt"
   ]
  },
  {
   "cell_type": "code",
   "execution_count": null,
   "id": "563385c9-8149-4be0-8448-5c652351e67c",
   "metadata": {},
   "outputs": [],
   "source": [
    "# import training and test data from Kaggle\n",
    "df = pd.read_csv(\"loan-train.csv\")"
   ]
  },
  {
   "cell_type": "code",
   "execution_count": null,
   "id": "1aa6f9ab-2e66-4f1f-a410-5ec426c9c899",
   "metadata": {},
   "outputs": [],
   "source": [
    "# check for null values\n",
    "df.info()"
   ]
  },
  {
   "cell_type": "code",
   "execution_count": null,
   "id": "660f8629-02df-4cac-b5be-f7734a711472",
   "metadata": {},
   "outputs": [],
   "source": [
    "# clean training data by filling in missing values with the most common value\n",
    "df = train_df.copy() # copy df\n",
    "df['Gender'] = df['Gender'].fillna(df['Gender'].mode()[0])\n",
    "df['Married'] = df['Married'].fillna(df['Married'].mode()[0])\n",
    "df['Dependents'] = df['Dependents'].fillna(df['Dependents'].mode()[0])\n",
    "df['Self_Employed'] = df['Self_Employed'].fillna(df['Self_Employed'].mode()[0])\n",
    "df['LoanAmount'] = df['LoanAmount'].fillna(train_df['LoanAmount'].median())\n",
    "df['Loan_Amount_Term'] = df['Loan_Amount_Term'].fillna(df['Loan_Amount_Term'].mode()[0])\n",
    "df['Credit_History'] = df['Credit_History'].fillna(df['Credit_History'].mode()[0])"
   ]
  },
  {
   "cell_type": "code",
   "execution_count": null,
   "id": "0e4ffdd9-792e-433e-80a4-23a82f13ec04",
   "metadata": {},
   "outputs": [],
   "source": [
    "# check again for null values\n",
    "df.info()"
   ]
  },
  {
   "cell_type": "code",
   "execution_count": null,
   "id": "2175fbb7-11b0-4283-babd-21bffaaf00ad",
   "metadata": {},
   "outputs": [],
   "source": [
    "# convert target label from \"Y\"/\"N\" to 1/0\n",
    "df['Loan_Status'] = df['Loan_Status'].map({'Y': 1, 'N': 0})"
   ]
  },
  {
   "cell_type": "code",
   "execution_count": null,
   "id": "c288ed31-8870-4e9f-be3e-ec31cc9493f2",
   "metadata": {},
   "outputs": [],
   "source": [
    "# One-hot encode categorical features\n",
    "df = pd.get_dummies(df, columns=['Gender', 'Married', 'Education','Self_Employed', 'Property_Area', 'Dependents'], drop_first=True)"
   ]
  },
  {
   "cell_type": "code",
   "execution_count": null,
   "id": "b325d029-3bd6-4b7d-9a55-b4e22750f857",
   "metadata": {},
   "outputs": [],
   "source": [
    "# drop loan id\n",
    "df.drop('Loan_ID', axis=1, inplace=True)"
   ]
  },
  {
   "cell_type": "code",
   "execution_count": null,
   "id": "62b2c92e-0679-4435-9da7-e463df4b726d",
   "metadata": {},
   "outputs": [],
   "source": [
    "# split features vs target\n",
    "X = df.drop('Loan_Status', axis=1)\n",
    "y = df['Loan_Status']"
   ]
  },
  {
   "cell_type": "code",
   "execution_count": null,
   "id": "3ae7e2e3-f5d4-487c-adc4-ff59adc343d5",
   "metadata": {},
   "outputs": [],
   "source": [
    "# Step 5: Split into train and validation sets\n",
    "X_train, X_valid, y_train, y_valid = train_test_split(X, y, test_size=0.2, random_state=42)"
   ]
  },
  {
   "cell_type": "code",
   "execution_count": null,
   "id": "3eb41b45-29a9-4a98-914c-5905951d3a75",
   "metadata": {},
   "outputs": [],
   "source": [
    "# Step 6: Scale the data\n",
    "scaler = X()\n",
    "X_train_scaled = scaler.fit_transform(X_train)\n",
    "X_valid_scaled = scaler.transform(X_valid)"
   ]
  },
  {
   "cell_type": "code",
   "execution_count": null,
   "id": "bc02c07c-5e88-4d75-a8d7-db59173aee9c",
   "metadata": {},
   "outputs": [],
   "source": [
    "# Step 7: Train Logistic Regression model\n",
    "model = LogisticRegression(max_iter=1000)\n",
    "model.fit(X_train_scaled, y_train)"
   ]
  },
  {
   "cell_type": "code",
   "execution_count": null,
   "id": "cb6584df-70f2-41e3-9fd3-738b9c9853d4",
   "metadata": {},
   "outputs": [],
   "source": [
    "# Step 8: Predict and evaluate\n",
    "y_pred = model.predict(X_valid_scaled)"
   ]
  },
  {
   "cell_type": "code",
   "execution_count": null,
   "id": "a90e3a46-e5db-4584-ac1c-050cd58529c2",
   "metadata": {},
   "outputs": [],
   "source": [
    "# Plot confusion matrix\n",
    "sns.heatmap(confusion_matrix(y_valid, y_pred), annot=True, fmt='d', cmap='Blues')\n",
    "plt.title(\"Confusion Matrix\")\n",
    "plt.xlabel(\"Predicted\")\n",
    "plt.ylabel(\"Actual\")\n",
    "plt.show()"
   ]
  },
  {
   "cell_type": "code",
   "execution_count": null,
   "id": "be5cb86d-ccca-4932-b137-2d44de7a3a30",
   "metadata": {},
   "outputs": [],
   "source": [
    "# Classification Report\n",
    "print(\"\\nClassification Report:\")\n",
    "print(classification_report(y_valid, y_pred))"
   ]
  },
  {
   "cell_type": "code",
   "execution_count": null,
   "id": "2de88e1c-a26a-4018-bc90-3b98c2d0791b",
   "metadata": {},
   "outputs": [],
   "source": [
    "# Step 10: Show 5 misclassified examples\n",
    "misclassified_indices = np.where(y_pred != y_valid)[0][:5]\n",
    "print(\"\\n5 Misclassified Samples:\")\n",
    "print(X_valid.iloc[misclassified_indices])\n",
    "print(\"\\nTrue Labels:\", y_valid.iloc[misclassified_indices].values)\n",
    "print(\"Predicted Labels:\", y_pred[misclassified_indices])"
   ]
  }
 ],
 "metadata": {
  "kernelspec": {
   "display_name": "Python 3 (ipykernel)",
   "language": "python",
   "name": "python3"
  },
  "language_info": {
   "codemirror_mode": {
    "name": "ipython",
    "version": 3
   },
   "file_extension": ".py",
   "mimetype": "text/x-python",
   "name": "python",
   "nbconvert_exporter": "python",
   "pygments_lexer": "ipython3",
   "version": "3.12.4"
  }
 },
 "nbformat": 4,
 "nbformat_minor": 5
}
